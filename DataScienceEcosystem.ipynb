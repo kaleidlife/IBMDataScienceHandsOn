{
 "cells": [
  {
   "cell_type": "markdown",
   "id": "0108c665-94bf-4546-8057-e8ef079a1bc8",
   "metadata": {},
   "source": [
    "# Data Science Tools and Ecosystem"
   ]
  },
  {
   "cell_type": "markdown",
   "id": "1e539213-fc8c-432d-9d5b-8ca677a9b89b",
   "metadata": {},
   "source": [
    "In this notebook, Data Science Tools and Ecosystem are summarized."
   ]
  },
  {
   "cell_type": "markdown",
   "id": "d225b73d-db53-47d1-a41e-e8ce31853f7b",
   "metadata": {},
   "source": [
    "**Objectives:**\n",
    "- List popular languages for Data Science\n",
    "- List commonly used libraries for Data Science\n",
    "- List Open Source Developer Environment for Data Science\n",
    "- Show arithmetic expressions in Python"
   ]
  },
  {
   "cell_type": "markdown",
   "id": "8b052509-bd8a-44f4-9e59-3b91984cf302",
   "metadata": {},
   "source": [
    "Some of the popular languages that Data Scientists use are:\n",
    "1. R\n",
    "2. Python\n",
    "3. Julia\n",
    "4. C++"
   ]
  },
  {
   "cell_type": "markdown",
   "id": "8d1e4732-b5c7-403c-9c2e-6df1bab2118b",
   "metadata": {},
   "source": [
    "Some of the commonly used libraries used by Data Scientists include:\n",
    "\n",
    "1. GGplot(R)\n",
    "2. Lattice(R)\n",
    "3. NumPy(Python)\n",
    "4. Pandas(Python)\n",
    "5. Matplotlib(Python)\n",
    "6. TensorFlow(C++)"
   ]
  },
  {
   "cell_type": "markdown",
   "id": "d1d74b87-3574-41e6-bd20-391cf98ddfc6",
   "metadata": {},
   "source": [
    "| Data Science Tools|\n",
    "|----|\n",
    "|RStudio|\n",
    "|Jupyter Notebooks|\n",
    "|Jupyter Lab|\n",
    "|Apache Zeppelin|\n",
    "|Spyder|\n",
    "\n"
   ]
  },
  {
   "cell_type": "markdown",
   "id": "1637d4ce-1911-4dd0-bd3c-56637476754d",
   "metadata": {},
   "source": [
    "### Below are a few examples of evaluating arithmetic expressions in Python"
   ]
  },
  {
   "cell_type": "code",
   "execution_count": 24,
   "id": "ee289cfe-5178-427f-987c-0a5dc97b515b",
   "metadata": {},
   "outputs": [
    {
     "data": {
      "text/plain": [
       "17"
      ]
     },
     "execution_count": 24,
     "metadata": {},
     "output_type": "execute_result"
    }
   ],
   "source": [
    "#  This a simple arithmetic expression to mutiply then add integers\n",
    "(3*4)+5"
   ]
  },
  {
   "cell_type": "code",
   "execution_count": 25,
   "id": "d39f5713-b235-4ea2-b396-66dbd75cecac",
   "metadata": {
    "tags": []
   },
   "outputs": [
    {
     "data": {
      "text/plain": [
       "3.3333333333333335"
      ]
     },
     "execution_count": 25,
     "metadata": {},
     "output_type": "execute_result"
    }
   ],
   "source": [
    "#  This will convert 200 minutes to hours by diving by 60\n",
    "200 / 60"
   ]
  },
  {
   "cell_type": "markdown",
   "id": "a5e09d97-fa56-41cd-abbe-f371d2fe2d41",
   "metadata": {},
   "source": [
    "## Auther\n",
    "Tomoyo AOYAMA"
   ]
  },
  {
   "cell_type": "markdown",
   "id": "003c5523-2a5c-4227-9f12-07b98031cbcf",
   "metadata": {},
   "source": [
    "## Appendix"
   ]
  },
  {
   "cell_type": "code",
   "execution_count": 27,
   "id": "bbfbea97-0d54-4176-a0c8-8d185fb38ccb",
   "metadata": {},
   "outputs": [
    {
     "name": "stdout",
     "output_type": "stream",
     "text": [
      "3 hours 20 minutes\n"
     ]
    }
   ],
   "source": [
    "# for self study\n",
    "minutes = 200\n",
    "perhour = 60\n",
    "hours = int(minutes//perhour)\n",
    "rest_minutes= int(minutes%perhour)\n",
    "print(str(hours) + \" hours \" + str(rest_minutes) + \" minutes\" )"
   ]
  }
 ],
 "metadata": {
  "kernelspec": {
   "display_name": "Python",
   "language": "python",
   "name": "conda-env-python-py"
  },
  "language_info": {
   "codemirror_mode": {
    "name": "ipython",
    "version": 3
   },
   "file_extension": ".py",
   "mimetype": "text/x-python",
   "name": "python",
   "nbconvert_exporter": "python",
   "pygments_lexer": "ipython3",
   "version": "3.7.12"
  }
 },
 "nbformat": 4,
 "nbformat_minor": 5
}
